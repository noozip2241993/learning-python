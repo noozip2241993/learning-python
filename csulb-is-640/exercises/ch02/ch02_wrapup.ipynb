{
 "metadata": {
  "language_info": {
   "codemirror_mode": {
    "name": "ipython",
    "version": 3
   },
   "file_extension": ".py",
   "mimetype": "text/x-python",
   "name": "python",
   "nbconvert_exporter": "python",
   "pygments_lexer": "ipython3",
   "version": "3.8.3-final"
  },
  "orig_nbformat": 2,
  "kernelspec": {
   "name": "python_defaultSpec_1600532823244",
   "display_name": "Python 3.8.3 32-bit"
  }
 },
 "nbformat": 4,
 "nbformat_minor": 2,
 "cells": [
  {
   "cell_type": "markdown",
   "metadata": {},
   "source": [
    "# Exercise 2.1"
   ]
  },
  {
   "cell_type": "code",
   "execution_count": 1,
   "metadata": {},
   "outputs": [],
   "source": [
    "x = 2\n",
    "y = 3"
   ]
  },
  {
   "cell_type": "code",
   "execution_count": 2,
   "metadata": {
    "tags": []
   },
   "outputs": [
    {
     "output_type": "stream",
     "name": "stdout",
     "text": "x =  2\nValue of 2 + 2 is 4\nx = \n5 = 5\n"
    }
   ],
   "source": [
    "print('x = ', x)\n",
    "print('Value of', x, '+', x, 'is', (x+x))\n",
    "print('x = ')\n",
    "print((x + y), '=', (y + x))"
   ]
  },
  {
   "cell_type": "markdown",
   "metadata": {},
   "source": [
    "# Exercise 2"
   ]
  },
  {
   "cell_type": "code",
   "execution_count": 5,
   "metadata": {
    "tags": []
   },
   "outputs": [
    {
     "output_type": "stream",
     "name": "stdout",
     "text": "5\n"
    }
   ],
   "source": [
    "rating = input('Enter an integer rating between 1 and 10: ')\n",
    "print(rating)"
   ]
  },
  {
   "cell_type": "markdown",
   "metadata": {},
   "source": [
    "# Exercise 3"
   ]
  },
  {
   "cell_type": "code",
   "execution_count": 9,
   "metadata": {
    "tags": []
   },
   "outputs": [
    {
     "output_type": "stream",
     "name": "stdout",
     "text": "Congratulations! your grade of 90 earns you an A in this course.\n"
    }
   ],
   "source": [
    "grade = 90\n",
    "if grade >= 90:\n",
    "    print(f'Congratulations! your grade of {grade} earns you an A in this course.')"
   ]
  },
  {
   "cell_type": "markdown",
   "metadata": {},
   "source": [
    "# Exercise 4"
   ]
  },
  {
   "cell_type": "code",
   "execution_count": 10,
   "metadata": {
    "tags": []
   },
   "outputs": [
    {
     "output_type": "stream",
     "name": "stdout",
     "text": "29.5\n25.5\n55.0\n13.75\n13.0\n756.25\n"
    }
   ],
   "source": [
    "print(27.5 + 2)\n",
    "print(27.5 - 2)\n",
    "print(27.5 * 2)\n",
    "print(27.5 / 2)\n",
    "print(27.5 // 2)\n",
    "print(27.5 ** 2)"
   ]
  },
  {
   "cell_type": "markdown",
   "metadata": {},
   "source": [
    "# Exercise 5"
   ]
  },
  {
   "cell_type": "code",
   "execution_count": 15,
   "metadata": {
    "tags": []
   },
   "outputs": [
    {
     "output_type": "stream",
     "name": "stdout",
     "text": "Radius: 2\nDiameter: 4\nCircumference: 12.56636\nArea: 12.56636\n"
    }
   ],
   "source": [
    "PI = 3.14159\n",
    "radius = 2\n",
    "diam = 2*radius\n",
    "circum = 2*PI*radius\n",
    "area = PI*(radius**2)\n",
    "\n",
    "print(f'Radius: {radius}')\n",
    "print(f'Diameter: {diam}')\n",
    "print(f'Circumference: {circum}')\n",
    "print(f'Area: {area}')"
   ]
  },
  {
   "cell_type": "markdown",
   "metadata": {},
   "source": [
    "# Exercise 6"
   ]
  },
  {
   "cell_type": "code",
   "execution_count": 22,
   "metadata": {
    "tags": []
   },
   "outputs": [
    {
     "output_type": "stream",
     "name": "stdout",
     "text": "4 is even.\n"
    }
   ],
   "source": [
    "my_int_input = input('Enter any integer: ')\n",
    "my_int = int(my_int_input)\n",
    "remainder = my_int % 2\n",
    "if remainder == 0:\n",
    "    print(f'{my_int} is even.')\n",
    "else:\n",
    "    print(f'{my_int} is odd.')"
   ]
  },
  {
   "cell_type": "markdown",
   "metadata": {},
   "source": [
    "# Exercise 7"
   ]
  },
  {
   "cell_type": "code",
   "execution_count": 25,
   "metadata": {
    "tags": []
   },
   "outputs": [
    {
     "output_type": "stream",
     "name": "stdout",
     "text": "1024 is  a multiple of 4.\n2 is not a multiple of 10.\n"
    }
   ],
   "source": [
    "CHECK_MULTIPLE = 1024\n",
    "CHECK_INT = 4\n",
    "NEG = ''\n",
    "if CHECK_MULTIPLE % CHECK_INT != 0:\n",
    "    NEG = 'not'\n",
    "print(f'{CHECK_MULTIPLE} is {NEG} a multiple of {CHECK_INT}.')\n",
    "\n",
    "CHECK_MULTIPLE = 2\n",
    "CHECK_INT = 10\n",
    "NEG = ''\n",
    "if CHECK_MULTIPLE % CHECK_INT != 0:\n",
    "    NEG = 'not'\n",
    "print(f'{CHECK_MULTIPLE} is {NEG} a multiple of {CHECK_INT}.')"
   ]
  },
  {
   "cell_type": "markdown",
   "metadata": {},
   "source": [
    "# Exercise 8"
   ]
  },
  {
   "cell_type": "code",
   "execution_count": 53,
   "metadata": {
    "tags": []
   },
   "outputs": [
    {
     "output_type": "stream",
     "name": "stdout",
     "text": "number\tsquare\tcube\n     0\t     0\t   0\n     1\t     1\t   1\n     2\t     4\t   8\n     3\t     9\t  27\n     4\t    16\t  64\n"
    }
   ],
   "source": [
    "col1_head = 'number'\n",
    "col2_head = 'square'\n",
    "col3_head = 'cube'\n",
    "col1_len = len(col1_head)\n",
    "col2_len = len(col2_head)\n",
    "col3_len = len(col2_head)\n",
    "\n",
    "print(f'{col1_head}\\t{col2_head}\\t{col3_head}')\n",
    "my_int = 0\n",
    "\n",
    "for x in range(0,5):\n",
    "    line_str = f'{my_int**1:>6}\\t'\n",
    "    line_str += f'{my_int**2:>6}\\t'\n",
    "    line_str += f'{my_int**3:>4}'\n",
    "    print(line_str)\n",
    "    my_int += 1\n"
   ]
  },
  {
   "cell_type": "markdown",
   "metadata": {},
   "source": [
    "# Exercise 9"
   ]
  },
  {
   "cell_type": "code",
   "execution_count": 54,
   "metadata": {
    "tags": []
   },
   "outputs": [
    {
     "output_type": "stream",
     "name": "stdout",
     "text": "65\n"
    }
   ],
   "source": [
    "print(ord('A'))"
   ]
  },
  {
   "cell_type": "code",
   "execution_count": 63,
   "metadata": {
    "tags": []
   },
   "outputs": [
    {
     "output_type": "stream",
     "name": "stdout",
     "text": "['B', 'C', 'D', 'b', 'c', 'd', '0', '1', '2', '$', '*', '+', ' ']\nChar: B has integer value of 66.\nChar: C has integer value of 67.\nChar: D has integer value of 68.\nChar: b has integer value of 98.\nChar: c has integer value of 99.\nChar: d has integer value of 100.\nChar: 0 has integer value of 48.\nChar: 1 has integer value of 49.\nChar: 2 has integer value of 50.\nChar: $ has integer value of 36.\nChar: * has integer value of 42.\nChar: + has integer value of 43.\nChar:   has integer value of 32.\n"
    }
   ],
   "source": [
    "MY_CHARS = ['B','C','D','b','c','d','0','1','2','$','*','+',' ']\n",
    "my_chars_len = len(MY_CHARS)\n",
    "print (MY_CHARS)\n",
    "for i in MY_CHARS:\n",
    "    print(f'Char: {i} has integer value of {ord(i)}.' )"
   ]
  },
  {
   "cell_type": "markdown",
   "metadata": {},
   "source": [
    "# Exercise 10"
   ]
  },
  {
   "cell_type": "code",
   "execution_count": 71,
   "metadata": {
    "tags": []
   },
   "outputs": [
    {
     "output_type": "stream",
     "name": "stdout",
     "text": "[3, 5, 7]\nSum: 15\nAverage: 5.0\nProduct: 105\nSmallest: 3\nLargest: 7\n"
    }
   ],
   "source": [
    "my_input = input('Enter any three integers separated by space: ')\n",
    "my_ints_str = my_input.split(' ')\n",
    "my_ints = list(map(int,my_ints_str))\n",
    "print(my_ints)\n",
    "\n",
    "my_sum = sum(my_ints)\n",
    "my_ave = sum(my_ints) / len(my_ints)\n",
    "my_prod = 1\n",
    "for i in my_ints:\n",
    "    my_prod *= i\n",
    "my_min = min(my_ints)\n",
    "my_max = max(my_ints)\n",
    "\n",
    "print(f'Sum: {my_sum}')\n",
    "print(f'Average: {my_ave}')\n",
    "print(f'Product: {my_prod}')\n",
    "print(f'Smallest: {my_min}')\n",
    "print(f'Largest: {my_max}')\n"
   ]
  },
  {
   "cell_type": "markdown",
   "metadata": {},
   "source": [
    "# Exercise 11"
   ]
  },
  {
   "cell_type": "code",
   "execution_count": 2,
   "metadata": {
    "tags": []
   },
   "outputs": [
    {
     "output_type": "stream",
     "name": "stdout",
     "text": "2\n23456\n2   3   4   5   6   \n"
    }
   ],
   "source": [
    "user_input = input('Input a 5-digit integer: ')\n",
    "input_chars = list(user_input)\n",
    "separator = '   '\n",
    "output_str = ''\n",
    "for i in input_chars:\n",
    "    output_str += i + separator\n",
    "print(user_input)\n",
    "print(output_str)"
   ]
  },
  {
   "cell_type": "markdown",
   "metadata": {},
   "source": [
    "# Exercise 12"
   ]
  },
  {
   "cell_type": "code",
   "execution_count": 80,
   "metadata": {
    "tags": []
   },
   "outputs": [
    {
     "output_type": "stream",
     "name": "stdout",
     "text": "After 10 years, $1,967.15 will be on deposit.\nAfter 20 years, $3,869.68 will be on deposit.\nAfter 30 years, $7,612.26 will be on deposit.\n"
    }
   ],
   "source": [
    "p = 1000 #principal\n",
    "r = .07 #annual rate of return\n",
    "n_list = [ 10, 20, 30] #years invested\n",
    "\n",
    "for n in n_list:\n",
    "    print(f'After {n} years, ${p*((1+r)**n):,.2f} will be on deposit.') "
   ]
  },
  {
   "cell_type": "markdown",
   "metadata": {},
   "source": [
    "# Exercise 13"
   ]
  },
  {
   "cell_type": "code",
   "execution_count": null,
   "metadata": {},
   "outputs": [],
   "source": [
    "# Im not leaving the code in execution hangs VS Code"
   ]
  },
  {
   "cell_type": "markdown",
   "metadata": {},
   "source": [
    "# Exercise 14"
   ]
  },
  {
   "cell_type": "code",
   "execution_count": 2,
   "metadata": {
    "tags": []
   },
   "outputs": [
    {
     "output_type": "stream",
     "name": "stdout",
     "text": "Age: 40\nMax Heart Rate: 180\nTarget Heart Rate: 90.0 to 153.0\n"
    }
   ],
   "source": [
    "user_input = input('What is your age in full years: ')\n",
    "age = int(user_input)\n",
    "MAX_BASE = 220\n",
    "MIN_TARGET_MULTIPLIER = .50\n",
    "MAX_TARGET_MULTIPLIER = .85\n",
    "max_heart_rate = MAX_BASE - age\n",
    "min_target = max_heart_rate * MIN_TARGET_MULTIPLIER\n",
    "max_target = max_heart_rate * MAX_TARGET_MULTIPLIER\n",
    "print(f'Age: {age}')\n",
    "print(f'Max Heart Rate: {max_heart_rate}')\n",
    "print(f'Target Heart Rate: {min_target} to {max_target}')"
   ]
  },
  {
   "cell_type": "markdown",
   "metadata": {},
   "source": [
    "# Exercise 15"
   ]
  },
  {
   "cell_type": "code",
   "execution_count": 9,
   "metadata": {
    "tags": []
   },
   "outputs": [
    {
     "output_type": "stream",
     "name": "stdout",
     "text": "[9.8, 5.6, 1.2]\n"
    }
   ],
   "source": [
    "user_input = '1.2 9.8 5.6'\n",
    "\n",
    "if user_input == '':\n",
    "    user_input = input('Provide three different floating point numbers (ex 2.1) separated by spaces: ')\n",
    "\n",
    "my_floats_str = user_input.split(' ')\n",
    "my_floats = list(map(float, my_floats_str))\n",
    "\n",
    "my_floats.sort()\n",
    "\n",
    "print(my_floats)\n",
    "\n"
   ]
  },
  {
   "cell_type": "code",
   "execution_count": null,
   "metadata": {},
   "outputs": [],
   "source": []
  }
 ]
}