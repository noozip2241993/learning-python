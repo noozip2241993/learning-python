{
 "metadata": {
  "language_info": {
   "codemirror_mode": {
    "name": "ipython",
    "version": 3
   },
   "file_extension": ".py",
   "mimetype": "text/x-python",
   "name": "python",
   "nbconvert_exporter": "python",
   "pygments_lexer": "ipython3",
   "version": "3.8.3-final"
  },
  "orig_nbformat": 2,
  "kernelspec": {
   "name": "Python 3.8.3 32-bit",
   "display_name": "Python 3.8.3 32-bit",
   "metadata": {
    "interpreter": {
     "hash": "6d58817d7a36abfa3a827e4c983e24a2b2aeec7ad475bf8b9406aeab7b3302d2"
    }
   }
  }
 },
 "nbformat": 4,
 "nbformat_minor": 2,
 "cells": [
  {
   "source": [
    "# Chapter 7 Continuous Probability Distributions\n",
    "## Eric Lambert"
   ],
   "cell_type": "markdown",
   "metadata": {}
  },
  {
   "cell_type": "code",
   "execution_count": 1,
   "metadata": {},
   "outputs": [],
   "source": [
    "# Uniform distribution methods\n",
    "def mean_uniform_dist(min, max):\n",
    "    return (min + max) / 2\n",
    "\n",
    "def variance_uniform_dist(min, max):\n",
    "    return ((max - min)**2) / 12\n",
    "\n",
    "def std_dev_uniform_dist(min, max):\n",
    "    import math\n",
    "    return math.sqrt(variance_uniform_dist(min, max))\n",
    "\n",
    "def prob_x_uniform_dist(x, min, max):\n",
    "    return (1 / (max - min)) * ((x - x) / 1)\n",
    "\n",
    "def prob_lt_x_uniform_dist(x, min, max):\n",
    "    if x < min:\n",
    "        return 0\n",
    "    elif x > max:\n",
    "        return 1\n",
    "    else: \n",
    "        return (x - min) / (max - min)\n",
    "\n",
    "def prob_gt_x_uniform_dist(x, min, max):\n",
    "    if x < min:\n",
    "        return 1\n",
    "    elif x > max:\n",
    "        return 0\n",
    "    else: \n",
    "        return 1 / (max - min) * ((max - x) / 1)"
   ]
  },
  {
   "cell_type": "code",
   "execution_count": 2,
   "metadata": {},
   "outputs": [],
   "source": [
    "# Normal distribution methods\n",
    "def std_norm_value(value, mean, std_dev):\n",
    "    return (value - mean) / std_dev\n",
    "\n",
    "def z_value(value, mean, std_dev):\n",
    "    return std_norm_value(value, mean, std_dev)\n",
    "\n",
    "def probability_norm_dist(value, mean, std_dev):\n",
    "    import math\n",
    "    a = 1 / (std_dev * math.sqrt((2 * math.pi)))\n",
    "    b1 = (value - mean)**2\n",
    "    b2 = 2 * std_dev**2\n",
    "    b = math.e**(b1 / b2)\n",
    "    return a * b\n",
    "\n",
    "def area_under_normal_dist_in_range(mean, std_dev, lower_bound, upper_bound):\n",
    "    import math\n",
    "    double_prob = math.erf((lower_bound - mean) / (std_dev * math.sqrt(2)))\n",
    "    prob_lower = double_prob / 2\n",
    "\n",
    "    double_prob = math.erf((upper_bound - mean) / (std_dev * math.sqrt(2)))\n",
    "    prob_upper = double_prob / 2\n",
    "    return prob_upper - prob_lower\n",
    "\n",
    "def area_under_normal_dist_out_range(mean, std_dev, lower_bound, upper_bound):\n",
    "    return 1 - area_under_normal_dist_in_range(mean, std_dev, lower_bound, upper_bound)\n"
   ]
  },
  {
   "source": [
    "## Homework Exercises"
   ],
   "cell_type": "markdown",
   "metadata": {}
  },
  {
   "source": [
    "## Ex3. The closing price of Schnur Sporting Goods Inc. common stock is uniformly distributed between \\$20 and \\$30 per share. What is the probability that the stock price will be:\n",
    "\n",
    "a. More than $27?\n",
    "\n",
    "b. Less than or equal to $24?\n"
   ],
   "cell_type": "markdown",
   "metadata": {}
  },
  {
   "cell_type": "code",
   "execution_count": 3,
   "metadata": {
    "tags": []
   },
   "outputs": [
    {
     "output_type": "stream",
     "name": "stdout",
     "text": [
      "part a\nThe probability that the stock price will be more than $27 is 0.3000.\n\npart b\nThe probability that the stock price will be less than or equal to $24 is 0.4000.\n"
     ]
    }
   ],
   "source": [
    "min = 20\n",
    "max = 30\n",
    "\n",
    "# statistics of a uniform distribution\n",
    "mean_uniform_dist = (min + max) / 2\n",
    "variance_uniform_dist = ((max - min)**2) / 12\n",
    "std_dev_uniform_dist = variance_uniform_dist**(1/2)\n",
    "probability = 1 / (max - min) # if min <= x <= max and 0 elsewhere\n",
    "\n",
    "print('part a')\n",
    "x = 27\n",
    "probability = (max - x) / (max - min) # if min <= x <= max and 0 elsewhere\n",
    "print(f'The probability that the stock price will be more than $27 is {probability:.4f}.')\n",
    "\n",
    "print('\\npart b')\n",
    "x = 24\n",
    "probability = (x - min) / (max - min) # if min <= x <= max and 0 elsewhere\n",
    "print(f'The probability that the stock price will be less than or equal to $24 is {probability:.4f}.')\n",
    "\n"
   ]
  },
  {
   "source": [
    "## Ex5. The April rainfall in Flagstaff, Arizona, follows a uniform distribution between 0.5 and 3.00 inches.\n",
    "\n",
    "a. What are the values for a and b?\n",
    "\n",
    "b. What is the mean amount of rainfall for the month? What is the standard deviation?\n",
    "\n",
    "c. What is the probability of less than an inch of rain for the month?\n",
    "\n",
    "d. What is the probability of exactly 1.00 inch of rain?\n",
    "\n",
    "e. What is the probability of more than 1.50 inches of rain for the month?"
   ],
   "cell_type": "markdown",
   "metadata": {}
  },
  {
   "cell_type": "code",
   "execution_count": 4,
   "metadata": {
    "tags": []
   },
   "outputs": [
    {
     "output_type": "stream",
     "name": "stdout",
     "text": [
      "part a\nThe values for a and b are 0.50 and 3.00.\n\npart b\nThe mean amount of rainfall for the month is 1.7500.\nThe standard deviation is 0.7217.\n\npart c\nThe probability of less than an inch of rain for the month is 0.2000.\n\npart d\nThe probability of exactly 1.00 inch of rain is 0.0000.\n\npart e\nThe probability of more than 1.50 inches of rain for the month is 0.6000.\n"
     ]
    }
   ],
   "source": [
    "min = 0.5\n",
    "max = 3.00\n",
    "\n",
    "print('part a')\n",
    "print(f'The values for a and b are {min:.2f} and {max:.2f}.')\n",
    "\n",
    "print('\\npart b')\n",
    "mean = (min + max) / 2\n",
    "variance = ((max - min)**2) / 12\n",
    "std_dev = variance**(1/2)\n",
    "print(f'The mean amount of rainfall for the month is {mean:.4f}.')\n",
    "print(f'The standard deviation is {std_dev:.4f}.')\n",
    "\n",
    "print('\\npart c')\n",
    "x = 1.00\n",
    "probability = prob_lt_x_uniform_dist(x, min, max)\n",
    "print(f'The probability of less than an inch of rain for the month is {probability:.4f}.')\n",
    "\n",
    "print('\\npart d')\n",
    "x = 1.00\n",
    "probability = prob_x_uniform_dist(x, min, max)\n",
    "print(f'The probability of exactly 1.00 inch of rain is {probability:.4f}.')\n",
    "\n",
    "print('\\npart e')\n",
    "x = 1.50\n",
    "probability = prob_gt_x_uniform_dist(x, min, max)\n",
    "print(f'The probability of more than 1.50 inches of rain for the month is {probability:.4f}.')"
   ]
  },
  {
   "source": [
    "## Ex9. The mean of a normal probability distribution is 500; the standard deviation is 10.\n",
    "\n",
    "a. About 68% of the observations lie between what two values?\n",
    "\n",
    "b. About 95% of the observations lie between what two values?\n",
    "\n",
    "c. Practically all of the observations lie between what two values?"
   ],
   "cell_type": "markdown",
   "metadata": {}
  },
  {
   "cell_type": "code",
   "execution_count": 5,
   "metadata": {
    "tags": []
   },
   "outputs": [
    {
     "output_type": "stream",
     "name": "stdout",
     "text": [
      "part a\nAbout 68% of the observations lie between 490 and 510.\n\npart b\nAbout 95% of the observations lie between 480 and 520.\n\npart c\nPractically all of the observations lie between 470 and 530.\n"
     ]
    }
   ],
   "source": [
    "# by Empirical Rule:\n",
    "#   68% of observations are within one std_dev of the mean\n",
    "#   95% of observations are within two std_devs of the mean\n",
    "#   Practically all observations are within three std_devs of the mean\n",
    "\n",
    "mean = 500\n",
    "std_dev = 10\n",
    "\n",
    "print('part a')\n",
    "std_dev_count = 1\n",
    "upper = mean + (std_dev_count * std_dev)\n",
    "lower = mean - (std_dev_count * std_dev)\n",
    "print(f'About 68% of the observations lie between {lower} and {upper}.')\n",
    "\n",
    "print('\\npart b')\n",
    "std_dev_count = 2\n",
    "upper = mean + (std_dev_count * std_dev)\n",
    "lower = mean - (std_dev_count * std_dev)\n",
    "print(f'About 95% of the observations lie between {lower} and {upper}.')\n",
    "\n",
    "print('\\npart c')\n",
    "std_dev_count = 3\n",
    "upper = mean + (std_dev_count * std_dev)\n",
    "lower = mean - (std_dev_count * std_dev)\n",
    "print(f'Practically all of the observations lie between {lower} and {upper}.')"
   ]
  },
  {
   "source": [
    "## Ex15. The mean hourly pay of an American Airlines flight attendant is normally distributed with a mean of \\$29.81 per hour and a standard deviation of \\$9.31 per hour. What is the probability that the hourly pay of a randomly selected flight attendant:\n",
    "\n",
    "a. Is between the mean and $35.00 per hour?\n",
    "\n",
    "b. Is more than $35.00 per hour?\n",
    "\n",
    "c. Is less than $20.00 per hour?"
   ],
   "cell_type": "markdown",
   "metadata": {}
  },
  {
   "cell_type": "code",
   "execution_count": 6,
   "metadata": {
    "tags": []
   },
   "outputs": [
    {
     "output_type": "stream",
     "name": "stdout",
     "text": [
      "part a\nz-value: 0.5575\nThe probability that the hourly pay of a randomly selected flight attendant is between the mean and $35.00 per hour is 0.2131\n\npart b\nz-value: 0.5575\nThe probability that the hourly pay of a randomly selected flight attendant is more than $35.00 per hour is 0.2869\n\npart c\nz-value: -1.0537\nThe probability that the hourly pay of a randomly selected flight attendant is less than $20.00 per hour is 0.1469\n"
     ]
    }
   ],
   "source": [
    "mean = 29.81\n",
    "std_dev = 9.31\n",
    "\n",
    "print('part a')\n",
    "value = 35.00\n",
    "z = z_value(value, mean, std_dev)\n",
    "print(f'z-value: {z:.4f}')\n",
    "table_val = 0.2131\n",
    "probability = table_val\n",
    "print(f'The probability that the hourly pay of a randomly selected flight attendant is between the mean and $35.00 per hour is {probability:.4f}')\n",
    "\n",
    "print('\\npart b')\n",
    "value = 35.00\n",
    "z = z_value(value, mean, std_dev)\n",
    "print(f'z-value: {z:.4f}')\n",
    "table_val = 0.2131\n",
    "probability = 0.5000 - table_val\n",
    "print(f'The probability that the hourly pay of a randomly selected flight attendant is more than $35.00 per hour is {probability:.4f}')\n",
    "\n",
    "print('\\npart c')\n",
    "value = 20.00\n",
    "z = z_value(value, mean, std_dev)\n",
    "print(f'z-value: {z:.4f}')\n",
    "table_val = .3531\n",
    "probability = 0.5000 - table_val\n",
    "print(f'The probability that the hourly pay of a randomly selected flight attendant is less than $20.00 per hour is {probability:.4f}')"
   ]
  },
  {
   "source": [
    "## Ex19. The Internal Revenue Service repored the average refund in 2017 was \\$2,878 with a standard deviation of \\$520. Assume the amount refunded is normally distributed.\n",
    "\n",
    "a. What percentage of the refunds are more than $3,500?\n",
    "\n",
    "b. What percentage of the refunds are more than \\$3,500 but less than \\$4,000?\n",
    "\n",
    "c. What percentage of the refunds are more than \\$2,400 but less than \\$4,000?"
   ],
   "cell_type": "markdown",
   "metadata": {}
  },
  {
   "cell_type": "code",
   "execution_count": 7,
   "metadata": {
    "tags": []
   },
   "outputs": [
    {
     "output_type": "stream",
     "name": "stdout",
     "text": [
      "part a\nz-value_3500: 1.1962\nThe percentage of the refunds more than $3,500 is 11.51%\n\npart b\nz-value_3500: 1.1962\nz-value_4000: 2.1577\nThe percentage of the refunds more than $3,500 but less than $4,000 is 9.97%\n\npart c\nz-value_2400: -0.9192\nz-value_4000: 2.1577\nThe percentage of the refunds more than $3,500 but less than $4,000 is 80.58%\n"
     ]
    }
   ],
   "source": [
    "mean = 2878\n",
    "std_dev = 520\n",
    "\n",
    "print('part a')\n",
    "value = 3500\n",
    "\n",
    "z = z_value(value, mean, std_dev)\n",
    "print(f'z-value_{value}: {z:.4f}')\n",
    "\n",
    "table_val = 0.3849\n",
    "\n",
    "# the table_val gives us the area from mean to value. we want the area from the value and above.\n",
    "# the area above the mean is always .5. Therefore we subtract the area between the mean and the \n",
    "# value (table_val) to get the area above the value. \n",
    "probability = .5 - table_val\n",
    "print(f'The percentage of the refunds more than $3,500 is {probability * 100:.2f}%')\n",
    "\n",
    "print('\\npart b')\n",
    "value_1 = 3500\n",
    "value_2 = 4000\n",
    "\n",
    "z1 = z_value(value_1, mean, std_dev)\n",
    "print(f'z-value_{value_1}: {z1:.4f}')\n",
    "\n",
    "z2 = z_value(value_2, mean, std_dev)\n",
    "print(f'z-value_{value_2}: {z2:.4f}')\n",
    "\n",
    "table_val_1 = 0.3849\n",
    "table_val_2 = 0.4846\n",
    "\n",
    "# value_1 and value_2 are on the same side of the mean so subtracting the area of the smaller from that of the larger yields the area between them.\n",
    "probability = table_val_2 - table_val_1\n",
    "print(f'The percentage of the refunds more than $3,500 but less than $4,000 is {probability * 100:.2f}%')\n",
    "\n",
    "print('\\npart c')\n",
    "value_1 = 2400\n",
    "value_2 = 4000\n",
    "\n",
    "z1 = z_value(value_1, mean, std_dev)\n",
    "print(f'z-value_{value_1}: {z1:.4f}')\n",
    "\n",
    "z2 = z_value(value_2, mean, std_dev)\n",
    "print(f'z-value_{value_2}: {z2:.4f}')\n",
    "\n",
    "table_val_1 = 0.3212\n",
    "table_val_2 = 0.4846\n",
    "\n",
    "# value_1 and value_2 are on different sides of the mean so adding their areas yields the area between them\n",
    "probability = table_val_2 + table_val_1 \n",
    "print(f'The percentage of the refunds more than $3,500 but less than $4,000 is {probability * 100:.2f}%')"
   ]
  },
  {
   "source": [
    "## Ex33. The Bureau of Labor Statistics’ American Time Use Survey, [www.bls.gov/data](\"https://www.bls.gov/data\"), showed that the amount of time spent using a computer for leisure varied greatly by age. Individuals age 75 and over averaged 0.3 hour (18 minutes) per day using a computer for leisure. Individuals ages 15 to 19 spend 1.0 hour per day using a computer for leisure. If these times follow an exponential distribution, find the proportion of each group that spends:\n",
    "\n",
    "a. Less than 15 minutes per day using a computer for leisure.\n",
    "\n",
    "b. More than 2 hours.\n",
    "\n",
    "c. Between 30 minutes and 90 minutes using a computer for leisure.\n",
    "\n",
    "d. Find the 20th percentile. Eighty percent spend more than what amount of time?"
   ],
   "cell_type": "markdown",
   "metadata": {}
  },
  {
   "cell_type": "code",
   "execution_count": 8,
   "metadata": {},
   "outputs": [],
   "source": [
    "# exponential distributions\n",
    "def prob_expon_dist(value, rate):\n",
    "    import math\n",
    "    return 1 - math.e**(-rate * value)"
   ]
  },
  {
   "cell_type": "code",
   "execution_count": 9,
   "metadata": {
    "tags": []
   },
   "outputs": [
    {
     "output_type": "stream",
     "name": "stdout",
     "text": [
      "Ex33\npart a\nThe proportion of individuals age 75 and over that spend less than 15 minutes per day using a computer for leisure is 0.5654\nThe proportion of individuals ages 15 to 19 that spend less than 15 minutes per day using a computer for leisure is 0.2212\n\npart b\nThe proportion of individuals age 75 and over that spend more than 2 hours per day using a computer for leisure is 0.9987\nThe proportion of individuals ages 15 to 19 that spend more than 2 hours per day using a computer for leisure is 0.8647\n\npart c\nThe proportion of individuals age 75 and over that spend between 30 minutes and 90 minutes using a computer for leisure is 0.1821\nThe proportion of individuals ages 15 to 19 that spend between 30 minutes and 90 minutes using a computer for leisure is 0.3834\n\npart d\nFor individuals age 75 and over, the 20th percentile is 4.0\nFor individuals ages 15 to 19, the 20th percentile is 13.4\n"
     ]
    }
   ],
   "source": [
    "print('Ex33')\n",
    "group_a = 'individuals age 75 and over'\n",
    "group_b = 'individuals ages 15 to 19'\n",
    "mean_a = 0.3 * 60\n",
    "mean_b = 1.0 * 60\n",
    "\n",
    "rate_a = 1 / mean_a\n",
    "rate_b = 1 / mean_b\n",
    "\n",
    "print('part a')\n",
    "ask = 'less than 15 minutes per day using a computer for leisure'\n",
    "value = 15\n",
    "\n",
    "prob_a = prob_expon_dist(value, rate_a)\n",
    "prob_b = prob_expon_dist(value, rate_b)\n",
    "\n",
    "print(f'The proportion of {group_a} that spend {ask} is {prob_a:.4f}')\n",
    "print(f'The proportion of {group_b} that spend {ask} is {prob_b:.4f}')\n",
    "\n",
    "print('\\npart b')\n",
    "ask = 'more than 2 hours per day using a computer for leisure'\n",
    "\n",
    "value = 2 * 60\n",
    "\n",
    "prob_a = prob_expon_dist(value, rate_a)\n",
    "prob_b = prob_expon_dist(value, rate_b)\n",
    "\n",
    "print(f'The proportion of {group_a} that spend {ask} is {prob_a:.4f}')\n",
    "print(f'The proportion of {group_b} that spend {ask} is {prob_b:.4f}')\n",
    "\n",
    "print('\\npart c')\n",
    "ask = 'between 30 minutes and 90 minutes using a computer for leisure'\n",
    "\n",
    "value_a = 30\n",
    "value_b = 90\n",
    "\n",
    "prob_a = prob_expon_dist(value_b, rate_a) - prob_expon_dist(value_a, rate_a) \n",
    "prob_b = prob_expon_dist(value_b, rate_b) - prob_expon_dist(value_a, rate_b)\n",
    "\n",
    "print(f'The proportion of {group_a} that spend {ask} is {prob_a:.4f}')\n",
    "print(f'The proportion of {group_b} that spend {ask} is {prob_b:.4f}')\n",
    "\n",
    "print('\\npart d')\n",
    "ask = 'the 20th percentile'\n",
    "perctile = 20 / 100\n",
    "import math\n",
    "x = math.log(1 - perctile) / (-1 / mean_a)\n",
    "y = math.log(1 - perctile) / (-1 / mean_b)\n",
    "\n",
    "print(f'For {group_a}, {ask} is {x:.1f}')\n",
    "print(f'For {group_b}, {ask} is {y:.1f}')"
   ]
  },
  {
   "source": [
    "## Ex35. If a continuous random variable, x, is uniformly distributed with a minimum value of 5 and a maximum value of 25:\n",
    "\n",
    "a. What is the probability that x = 10? Why?\n",
    "\n",
    "b. What is the probability that x = 13.4? Why?"
   ],
   "cell_type": "markdown",
   "metadata": {}
  },
  {
   "cell_type": "code",
   "execution_count": 10,
   "metadata": {
    "tags": []
   },
   "outputs": [
    {
     "output_type": "stream",
     "name": "stdout",
     "text": [
      "part a\nThe probability that x = 10 is 0.0000\nThis is because a continuous probability distribution requires a lower and upper bound to identify \nthe area under the distribution that represents the probability of falling in that area. A single \npoint does not have a lower and upper bound.\n\npart b\nThe probability that x = 13.4 is 0.0000\nThis is because a continuous probability distribution requires a lower and upper bound to identify \nthe area under the distribution that represents the probability of falling in that area. A single \npoint does not have a lower and upper bound.\n"
     ]
    }
   ],
   "source": [
    "min = 5\n",
    "max = 25\n",
    "\n",
    "print('part a')\n",
    "x = 10\n",
    "prob = prob_x_uniform_dist(x, min, max)\n",
    "print(f'The probability that x = {x} is {prob:.4f}')\n",
    "print('This is because a continuous probability distribution requires a lower and upper bound to identify \\nthe area under the distribution that represents the probability of falling in that area. A single \\npoint does not have a lower and upper bound.')\n",
    "\n",
    "print('\\npart b')\n",
    "x = 13.4\n",
    "prob = prob_x_uniform_dist(x, min, max)\n",
    "print(f'The probability that x = {x} is {prob:.4f}')\n",
    "print('This is because a continuous probability distribution requires a lower and upper bound to identify \\nthe area under the distribution that represents the probability of falling in that area. A single \\npoint does not have a lower and upper bound.')\n",
    "\n"
   ]
  },
  {
   "source": [
    "## Ex37. The amount of cola in a 12-ounce can is uniformly distributed between 11.96 ounces and 12.05 ounces.\n",
    "\n",
    "a. What is the mean amount per can?\n",
    "\n",
    "b. What is the standard deviation amount per can?\n",
    "\n",
    "c. What is the probability of selecting a can of cola and finding it has less than 12 ounces?\n",
    "\n",
    "d. What is the probability of selecting a can of cola and finding it has more than 11.98 ounces?\n",
    "\n",
    "e. What is the probability of selecting a can of cola and finding it has more than 11.00 ounces?"
   ],
   "cell_type": "markdown",
   "metadata": {}
  },
  {
   "cell_type": "code",
   "execution_count": 11,
   "metadata": {
    "tags": []
   },
   "outputs": [
    {
     "output_type": "error",
     "ename": "TypeError",
     "evalue": "'float' object is not callable",
     "traceback": [
      "\u001b[1;31m---------------------------------------------------------------------------\u001b[0m",
      "\u001b[1;31mTypeError\u001b[0m                                 Traceback (most recent call last)",
      "\u001b[1;32m<ipython-input-11-1b12010787c0>\u001b[0m in \u001b[0;36m<module>\u001b[1;34m\u001b[0m\n\u001b[0;32m      1\u001b[0m \u001b[0mmin\u001b[0m \u001b[1;33m=\u001b[0m \u001b[1;36m11.96\u001b[0m\u001b[1;33m\u001b[0m\u001b[1;33m\u001b[0m\u001b[0m\n\u001b[0;32m      2\u001b[0m \u001b[0mmax\u001b[0m \u001b[1;33m=\u001b[0m \u001b[1;36m12.05\u001b[0m\u001b[1;33m\u001b[0m\u001b[1;33m\u001b[0m\u001b[0m\n\u001b[1;32m----> 3\u001b[1;33m \u001b[0mmean\u001b[0m \u001b[1;33m=\u001b[0m \u001b[0mmean_uniform_dist\u001b[0m\u001b[1;33m(\u001b[0m\u001b[0mmin\u001b[0m\u001b[1;33m,\u001b[0m \u001b[0mmax\u001b[0m\u001b[1;33m)\u001b[0m\u001b[1;33m\u001b[0m\u001b[1;33m\u001b[0m\u001b[0m\n\u001b[0m\u001b[0;32m      4\u001b[0m \u001b[0mvariance\u001b[0m \u001b[1;33m=\u001b[0m \u001b[0mvariance_uniform_dist\u001b[0m\u001b[1;33m(\u001b[0m\u001b[0mmin\u001b[0m\u001b[1;33m,\u001b[0m \u001b[0mmax\u001b[0m\u001b[1;33m)\u001b[0m\u001b[1;33m\u001b[0m\u001b[1;33m\u001b[0m\u001b[0m\n\u001b[0;32m      5\u001b[0m \u001b[0mstd_dev\u001b[0m \u001b[1;33m=\u001b[0m \u001b[0mstd_dev_uniform_dist\u001b[0m\u001b[1;33m(\u001b[0m\u001b[0mmin\u001b[0m\u001b[1;33m,\u001b[0m \u001b[0mmax\u001b[0m\u001b[1;33m)\u001b[0m\u001b[1;33m\u001b[0m\u001b[1;33m\u001b[0m\u001b[0m\n",
      "\u001b[1;31mTypeError\u001b[0m: 'float' object is not callable"
     ]
    }
   ],
   "source": [
    "min = 11.96\n",
    "max = 12.05\n",
    "mean = mean_uniform_dist(min, max)\n",
    "variance = variance_uniform_dist(min, max)\n",
    "std_dev = std_dev_uniform_dist(min, max)\n",
    "\n",
    "print('part a')\n",
    "print(f'The mean amount per can is {mean:.4f}.')\n",
    "\n",
    "print('\\npart b')\n",
    "print(f'The standard deviation amount per can is {std_dev:.4f}.')\n",
    "\n",
    "print('\\npart c')\n",
    "x = 12\n",
    "prob = prob_lt_x_uniform_dist(x, min, max)\n",
    "print(f'The probability of selecting a can of cola and finding it has less than {x} ounces is {prob:.4f}')\n",
    "\n",
    "print('\\npart d')\n",
    "x = 11.98\n",
    "prob = prob_gt_x_uniform_dist(x, min, max)\n",
    "print(f'The probability of selecting a can of cola and finding it has more than {x} ounces is {prob:.4f}')\n",
    "\n",
    "print('\\npart e')\n",
    "x = 11.00\n",
    "prob = prob_gt_x_uniform_dist(x, min, max)\n",
    "print(f'The probability of selecting a can of cola and finding it has less than {x} ounces is {prob:.4f}')"
   ]
  },
  {
   "source": [
    "## Ex43. In 2018, the U.S. Department of Agriculture issued a [report](http://www.cnpp.usda.gov/sites/default/files/CostofFoodNov2018.pdf) indicating a family of four spent an average of \\$1,054.50 per month on food. This is for a family of four (two parents aged 19 to 50) and two children (one whose age is between 6 and 8 years and one between 9 and 11 years). Assume the distribution of food expenditures for a family of four follows the normal distribution with a standard deviation of \\$120 per month.\n",
    "\n",
    "a. What percent of the families spend more than \\$900 but less than \\$1,054.50 per month on food?\n",
    "\n",
    "b. What percent of the families spend less than \\$900 per month on food?\n",
    "\n",
    "c. What percent spend between \\$900 and \\$1,200 per month on food?\n",
    "\n",
    "d. What percent spend between \\$900 and \\$1,000 per month on food?\n"
   ],
   "cell_type": "markdown",
   "metadata": {}
  },
  {
   "cell_type": "code",
   "execution_count": 124,
   "metadata": {
    "tags": []
   },
   "outputs": [
    {
     "output_type": "stream",
     "name": "stdout",
     "text": "part a\nz-value_900.0: -1.29\n40.15 percent of the families spend more than $900.00 but less than $1054.50 per month on food.\n\npart b\nz-value_900.0: -1.29\n9.85 percent of the families spend more than $900.00 but less than $1054.50 per month on food.\n\npart c\nz-value_900.0: -1.29\nz-value_1200.0: 1.21\n78.84 percent of the families spend more than $900.00 but less than $1200.00 per month on food.\n\npart d\nz-value_900.0: -1.29\nz-value_1000.0: -0.45\n22.79 percent of the families spend more than $900.00 but less than $1000.00 per month on food.\n"
    }
   ],
   "source": [
    "mean = 1054.50\n",
    "std_dev = 120.00\n",
    "\n",
    "print('part a')\n",
    "value = 900.00\n",
    "\n",
    "z = z_value(value, mean, std_dev)\n",
    "print(f'z-value_{value}: {z:.2f}')\n",
    "\n",
    "table_val = 0.4015\n",
    "\n",
    "# the table_val gives us the area from mean to value.\n",
    "probability = table_val\n",
    "\n",
    "print(f'{probability * 100:.2f} percent of the families spend more than ${value:.2f} but less than ${mean:.2f} per month on food.')\n",
    "\n",
    "print('\\npart b')\n",
    "value = 900.00\n",
    "\n",
    "z = z_value(value, mean, std_dev)\n",
    "print(f'z-value_{value}: {z:.2f}')\n",
    "\n",
    "table_val = 0.4015\n",
    "\n",
    "# the table_val gives us the area from mean to value. we want the area from the value and above.\n",
    "# the area above the mean is always .5. Therefore we subtract the area between the mean and the \n",
    "# value (table_val) to get the area above the value. \n",
    "probability = .5000 - table_val\n",
    "\n",
    "print(f'{probability * 100:.2f} percent of the families spend more than ${value:.2f} but less than ${mean:.2f} per month on food.')\n",
    "\n",
    "print('\\npart c')\n",
    "value1 = 900.00\n",
    "value2 = 1200.00\n",
    "\n",
    "z1 = z_value(value1, mean, std_dev)\n",
    "z2 = z_value(value2, mean, std_dev)\n",
    "\n",
    "print(f'z-value_{value1}: {z1:.2f}')\n",
    "print(f'z-value_{value2}: {z2:.2f}')\n",
    "\n",
    "table_val_1 = 0.4015\n",
    "table_val_2 = 0.3869\n",
    "\n",
    "# the table_val gives us the area from mean to value. table_val_1 and table_val_2 are on opposite sides of the mean so we add them to\n",
    "# to get the area under the curve that we are looking for.\n",
    "probability= table_val_1 + table_val_2\n",
    "\n",
    "print(f'{probability * 100:.2f} percent of the families spend more than ${value1:.2f} but less than ${value2:.2f} per month on food.')\n",
    "\n",
    "print('\\npart d')\n",
    "value1 = 900.00\n",
    "value2 = 1000.00\n",
    "\n",
    "z1 = z_value(value1, mean, std_dev)\n",
    "z2 = z_value(value2, mean, std_dev)\n",
    "\n",
    "print(f'z-value_{value1}: {z1:.2f}')\n",
    "print(f'z-value_{value2}: {z2:.2f}')\n",
    "\n",
    "table_val_1 = 0.4015\n",
    "table_val_2 = 0.1736\n",
    "\n",
    "# the table_val gives us the area from mean to value. table_val_1 and table_val_2 are on the same side of the mean so we subtract them to\n",
    "# to get the area under the curve that we are looking for.\n",
    "probability= table_val_1 - table_val_2\n",
    "\n",
    "print(f'{probability * 100:.2f} percent of the families spend more than ${value1:.2f} but less than ${value2:.2f} per month on food.')"
   ]
  },
  {
   "source": [
    "## Ex47. A recent study reported that Americans spend an average of 270 minutes per day watching TV. Assume the distribution of minutes per day watching TV follows a normal distribution with a standard deviation of 23 minutes.\n",
    "\n",
    "a. What percent of the population watch more than 300 minutes per day?\n",
    "\n",
    "b. What percent of the population watch more than 220 minutes per day?\n",
    "\n",
    "c. What percent of the population watch between 220 minutes and 300 minutes?\n",
    "\n",
    "d. Let’s define a “binge watcher” as someone in the upper 5% of the distribution of minutes watching TV. How many minutes does a “binge watcher” spend per day watching TV?"
   ],
   "cell_type": "markdown",
   "metadata": {}
  },
  {
   "cell_type": "code",
   "execution_count": 1,
   "metadata": {
    "tags": []
   },
   "outputs": [
    {
     "output_type": "stream",
     "name": "stdout",
     "text": [
      "part a\n"
     ]
    },
    {
     "output_type": "error",
     "ename": "NameError",
     "evalue": "name 'z_value' is not defined",
     "traceback": [
      "\u001b[1;31m---------------------------------------------------------------------------\u001b[0m",
      "\u001b[1;31mNameError\u001b[0m                                 Traceback (most recent call last)",
      "\u001b[1;32m<ipython-input-1-2a80107034de>\u001b[0m in \u001b[0;36m<module>\u001b[1;34m\u001b[0m\n\u001b[0;32m      4\u001b[0m \u001b[0mprint\u001b[0m\u001b[1;33m(\u001b[0m\u001b[1;34m'part a'\u001b[0m\u001b[1;33m)\u001b[0m\u001b[1;33m\u001b[0m\u001b[1;33m\u001b[0m\u001b[0m\n\u001b[0;32m      5\u001b[0m \u001b[0mvalue\u001b[0m \u001b[1;33m=\u001b[0m \u001b[1;36m300\u001b[0m\u001b[1;33m\u001b[0m\u001b[1;33m\u001b[0m\u001b[0m\n\u001b[1;32m----> 6\u001b[1;33m \u001b[0mz\u001b[0m \u001b[1;33m=\u001b[0m \u001b[0mz_value\u001b[0m\u001b[1;33m(\u001b[0m\u001b[0mvalue\u001b[0m\u001b[1;33m,\u001b[0m \u001b[0mmean\u001b[0m\u001b[1;33m,\u001b[0m \u001b[0mstd_dev\u001b[0m\u001b[1;33m)\u001b[0m\u001b[1;33m\u001b[0m\u001b[1;33m\u001b[0m\u001b[0m\n\u001b[0m\u001b[0;32m      7\u001b[0m \u001b[0mprint\u001b[0m\u001b[1;33m(\u001b[0m\u001b[1;34mf'z-value_{value}: {z:.2f}'\u001b[0m\u001b[1;33m)\u001b[0m\u001b[1;33m\u001b[0m\u001b[1;33m\u001b[0m\u001b[0m\n\u001b[0;32m      8\u001b[0m \u001b[0mtable_val_a\u001b[0m \u001b[1;33m=\u001b[0m \u001b[1;36m0.4032\u001b[0m\u001b[1;33m\u001b[0m\u001b[1;33m\u001b[0m\u001b[0m\n",
      "\u001b[1;31mNameError\u001b[0m: name 'z_value' is not defined"
     ]
    }
   ],
   "source": [
    "mean = 270\n",
    "std_dev = 23\n",
    "\n",
    "print('part a')\n",
    "value = 300\n",
    "z = z_value(value, mean, std_dev)\n",
    "print(f'z-value_{value}: {z:.2f}')\n",
    "table_val_a = 0.4032\n",
    "\n",
    "# the table_val gives us the area from mean to value. We want to area above the value.\n",
    "# Because the entire area above the mean totals .5 of the distribution, we want .5 - table_val.\n",
    "probability = .5 - table_val_a\n",
    "print(f'{probability:.4f} percent of the population watch more than 300 minutes per day.')\n",
    "\n",
    "print('\\npart b')\n",
    "value = 220\n",
    "z = z_value(value, mean, std_dev)\n",
    "print(f'z-value_{value}: {z:.2f}')\n",
    "table_val_b = 0.4850\n",
    "\n",
    "# the table_val gives us the area from mean to value. We want to area above the value.\n",
    "# Because the entire area above the mean totals .5 of the distribution, we want .5 - table_val.\n",
    "probability = .5 + table_val_b\n",
    "print(f'{probability:.4f} percent of the population watch more than 300 minutes per day.')\n",
    "\n",
    "print('\\npart c')\n",
    "# parts a and b give us the table value for the values we are interested in.\n",
    "# because they are on the opposite sides of the mean and we are looking for the area\n",
    "# between them we can add the table values to get what we are looking for.\n",
    "probability = table_val_a + table_val_b\n",
    "print(f'{probability:.4f} percent of the population watch more than 300 minutes per day.')\n",
    "\n",
    "print('\\npart d')\n",
    "table_val = .4500\n",
    "nearest_table_val = .4495\n",
    "z = 1.64\n",
    "\n",
    "# z = (x - mean) / std_dev\n",
    "x = z * std_dev + mean\n",
    "print(f'A “binge watcher” spend {x:.1f} minutes (or {x / 60:.1f} hours) per day watching TV.')"
   ]
  },
  {
   "source": [
    "## Ex57. “Boot time” (the time between the appearance of the Bios screen to the first file that is loaded in Windows) on Eric Mouser’s personal computer follows an exponential distribution with a mean of 27 seconds. What is the probability his “boot” will require:\n",
    "\n",
    "a. Less than 15 seconds?\n",
    "\n",
    "b. More than 60 seconds?\n",
    "\n",
    "c. Between 30 and 45 seconds?\n",
    "\n",
    "d. What is the point below which only 10% of the boots occur?"
   ],
   "cell_type": "markdown",
   "metadata": {}
  },
  {
   "cell_type": "code",
   "execution_count": 150,
   "metadata": {
    "tags": []
   },
   "outputs": [
    {
     "output_type": "stream",
     "name": "stdout",
     "text": "part a\nThe probability his “boot” will require less than 15 seconds is 0.4262.\n\npart b\nThe probability his “boot” will require more than 60 seconds is 0.1084.\n\npart c\nThe probability his “boot” will require between 30 and 45 seconds is 0.1403.\n\npart d\nThe point below which only 10% of the boots occur is 2.84 seconds.\n"
    }
   ],
   "source": [
    "mean = 27\n",
    "rate = 1 / mean\n",
    "\n",
    "print('part a')\n",
    "value = 15\n",
    "prob = prob_expon_dist(value, rate)\n",
    "print(f'The probability his “boot” will require less than 15 seconds is {prob:.4f}.')\n",
    "\n",
    "print('\\npart b')\n",
    "value = 60\n",
    "prob = 1 - prob_expon_dist(value, rate)\n",
    "print(f'The probability his “boot” will require more than 60 seconds is {prob:.4f}.')\n",
    "\n",
    "print('\\npart c')\n",
    "value1 = 30\n",
    "prob1 = prob_expon_dist(value1, rate)\n",
    "\n",
    "value2 = 45\n",
    "prob2 = prob_expon_dist(value2, rate)\n",
    "\n",
    "prob = prob2 - prob1\n",
    "print(f'The probability his “boot” will require between 30 and 45 seconds is {prob:.4f}.')\n",
    "\n",
    "print('\\npart d')\n",
    "perctile = 10 / 100\n",
    "import math\n",
    "x = math.log(1 - perctile) / (-1 / mean)\n",
    "\n",
    "print(f'The point below which only 10% of the boots occur is {x:.2f} seconds.')"
   ]
  },
  {
   "source": [
    "## Ex71. Does not exist in the 18th Edition text."
   ],
   "cell_type": "markdown",
   "metadata": {}
  },
  {
   "source": [
    "## Ex73. Does not exist in the 18th Edition text."
   ],
   "cell_type": "markdown",
   "metadata": {}
  }
 ]
}