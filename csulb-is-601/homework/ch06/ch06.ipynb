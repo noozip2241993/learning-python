{
 "metadata": {
  "language_info": {
   "codemirror_mode": {
    "name": "ipython",
    "version": 3
   },
   "file_extension": ".py",
   "mimetype": "text/x-python",
   "name": "python",
   "nbconvert_exporter": "python",
   "pygments_lexer": "ipython3",
   "version": "3.8.3-final"
  },
  "orig_nbformat": 2,
  "kernelspec": {
   "name": "Python 3.8.3 32-bit",
   "display_name": "Python 3.8.3 32-bit",
   "metadata": {
    "interpreter": {
     "hash": "6d58817d7a36abfa3a827e4c983e24a2b2aeec7ad475bf8b9406aeab7b3302d2"
    }
   }
  }
 },
 "nbformat": 4,
 "nbformat_minor": 2,
 "cells": [
  {
   "source": [
    "# Chapter 6 Discrete Probability Distributions\n",
    "## Eric Lambert"
   ],
   "cell_type": "markdown",
   "metadata": {}
  },
  {
   "source": [
    "## Homework Exercises"
   ],
   "cell_type": "markdown",
   "metadata": {}
  },
  {
   "source": [
    "## Ex1. Compute the mean and variance of the following discrete probability distribution"
   ],
   "cell_type": "markdown",
   "metadata": {}
  },
  {
   "cell_type": "code",
   "execution_count": 7,
   "metadata": {
    "tags": []
   },
   "outputs": [
    {
     "output_type": "stream",
     "name": "stdout",
     "text": "Mean: 1.3\nVariance: 0.81\n"
    }
   ],
   "source": [
    "\n",
    "prob_dist = [[0,.2],[1,.4],[2,.3],[3,.1]]\n",
    "\n",
    "'''\n",
    "Calculate the mean of discrete probability distribution\n",
    "multiply each value by it's probability\n",
    "add these products\n",
    "'''\n",
    "mean = 0\n",
    "for row in prob_dist:\n",
    "    mean += row[0]*row[1]\n",
    "\n",
    "'''\n",
    "Calculate the varaince of discrete probability distribution\n",
    "1. subtract the mean from each value and square the difference\n",
    "2. multiply the squared difference by it's probability\n",
    "3. sum the resulting products\n",
    "'''\n",
    "variance = 0\n",
    "for row in prob_dist:\n",
    "    variance += ((row[0]-mean)**2)*row[1]\n",
    "\n",
    "print(f'Mean: {mean}')\n",
    "print(f'Variance: {variance}')\n"
   ]
  },
  {
   "source": [
    "## Ex5. The information below is the number of daily emergency service calls made by the volunteer ambulance service of Walterboro, South Carolina, for the last 50 days. To explain, there were 22 days whenthere were two emergency calls, and 9 days where there were three emergency calls.\n",
    "\n",
    "| Number of Calls | Frequency |\n",
    "| :-------------: | :------------: |\n",
    "|0|8|\n",
    "|1|10|\n",
    "|2|22|\n",
    "|3|9|\n",
    "|4|1|\n",
    "|Total|50|\n",
    "\n",
    "a. Convert this information on the number of calls to a probability distribution.\n",
    "\n",
    "b. Is this an example of a discrete or continuous probability distrilbution?\n",
    "\n",
    "c. What is the probability that three or more calls are made per day?\n",
    "\n",
    "d. What is the mean number of emergency calls per day?\n",
    "\n",
    "e. What is the standard deviation of the number of calls made daily?\n"
   ],
   "cell_type": "markdown",
   "metadata": {}
  },
  {
   "cell_type": "code",
   "execution_count": 45,
   "metadata": {
    "tags": []
   },
   "outputs": [
    {
     "output_type": "stream",
     "name": "stdout",
     "text": "part a\nCalls (x) Frequency P(x)      x*P(x)    (x-u)^2*P(x)\n0         8         0.16      0.00      0.4624    \n1         10        0.20      0.20      0.0980    \n2         22        0.44      0.88      0.0396    \n3         9         0.18      0.54      0.3042    \n4         1         0.02      0.08      0.1058    \n          50                  1.70      1.0100    \n\npart b\nthe number of calls can only assume random non-negative integer values so is therefore a discrete random variable. If all decimal values between whole numbers were possible it would be a continuous random variable.\n\npart c\nThe probability of 3 or more calls in a day is 0.20\n\npart d\nThe mean number of calls in a day is 1.70\n\npart e\nThe standard deviation of calls in a day is 1.0050\n"
    }
   ],
   "source": [
    "emergency_call_data = [[0,8],[1,10],[2,22],[3,9],[4,1]]\n",
    "\n",
    "print('part a')\n",
    "prob_dist = []\n",
    "\n",
    "# calc the total frequency, mean\n",
    "total_frequency = 0\n",
    "mean = 0\n",
    "for element in emergency_call_data:\n",
    "    total_frequency += element[1]\n",
    "    mean += element[0] * element[1]\n",
    "mean = mean / total_frequency\n",
    "\n",
    "#construct the probability distribution\n",
    "variance_sum = 0\n",
    "for element in emergency_call_data:\n",
    "    calls = element[0]\n",
    "    frequency = element[1]\n",
    "    probability = frequency / total_frequency\n",
    "    xpx = calls * probability\n",
    "    variance = ((mean-calls)**2) * probability\n",
    "    variance_sum += variance\n",
    "    prob_dist.append([calls, frequency, probability, xpx, variance])\n",
    "std_dev = variance_sum**(1/2)\n",
    "\n",
    "#display the probability distribution\n",
    "print(f'{\"Calls (x)\":<10}{\"Frequency\":<10}{\"P(x)\":<10}{\"x*P(x)\":<10}{\"(x-u)^2*P(x)\":<10}')\n",
    "for element in prob_dist:\n",
    "    print(f'{element[0]:<10}{element[1]:<10}{element[2]:<10.2f}{element[3]:<10.2f}{element[4]:<10.4f}')\n",
    "print(f'{\"\":<10}{total_frequency:<10}{\"\":<10}{mean:<10.2f}{variance_sum:<10.4f}')\n",
    "\n",
    "print('\\npart b')\n",
    "print('the number of calls can only assume random non-negative integer values so is therefore a discrete random variable. If all decimal values between whole numbers were possible it would be a continuous random variable.')\n",
    "\n",
    "print('\\npart c')\n",
    "cumul_prob = 0\n",
    "for element in prob_dist:\n",
    "    if element[0] >= 3:\n",
    "        cumul_prob += element[2]\n",
    "print(f'The probability of 3 or more calls in a day is {cumul_prob:.2f}')\n",
    "\n",
    "print('\\npart d')\n",
    "print(f'The mean number of calls in a day is {mean:.2f}')\n",
    "\n",
    "print('\\npart e')\n",
    "print(f'The standard deviation of calls in a day is {std_dev:.4f}')"
   ]
  },
  {
   "source": [
    "## Ex13. An American Society of Investors survey found 30% of individual investors have used a discount broker. In a random sample of nine individuals, what is the probability:\n",
    "a. Exactly two of the sampled individuals have used a discount broker?\n",
    "\n",
    "b. Exactly four of them have used a discount broker?\n",
    "\n",
    "c. None of them have used a discount broker?"
   ],
   "cell_type": "markdown",
   "metadata": {}
  },
  {
   "cell_type": "code",
   "execution_count": 57,
   "metadata": {
    "tags": []
   },
   "outputs": [
    {
     "output_type": "stream",
     "name": "stdout",
     "text": "part a\nThe probability that exactly 2 of the sampled individuals have used a discount broker is 0.2668\n\npart b\nThe probability that exactly 4 of the sampled individuals have used a discount broker is 0.1715\n\npart c\nThe probability that exactly 0 of the sampled individuals have used a discount broker is 0.0404\n"
    }
   ],
   "source": [
    "# Binomial probability formula\n",
    "# P(x) = (nCx)*(pi**x)*(1 - pi)**(n - x)\n",
    "# C denotes a combination\n",
    "# n is the number of observations\n",
    "# x is the random variable\n",
    "# pi is the probability of a 'success' on each observation\n",
    "n = 9\n",
    "pi = .30\n",
    "x = 0\n",
    "\n",
    "def binom_prob (n, pi, x):\n",
    "    a = my_combo(n, x)\n",
    "    b = pi**x\n",
    "    c = (1 - pi)**(n - x)\n",
    "    return a * b * c\n",
    "\n",
    "def my_combo (n, x):\n",
    "    import math\n",
    "    numberator  = math.factorial(n)\n",
    "    denom_a     = math.factorial(x)\n",
    "    denom_b     = math.factorial(n - x)\n",
    "    combo = numberator / (denom_a * denom_b)\n",
    "    return combo\n",
    "\n",
    "print('part a')\n",
    "x = 2\n",
    "print(f'The probability that exactly {x} of the sampled individuals have used a discount broker is {binom_prob(n, pi, x):.4f}')\n",
    "\n",
    "print('\\npart b')\n",
    "x = 4\n",
    "print(f'The probability that exactly {x} of the sampled individuals have used a discount broker is {binom_prob(n, pi, x):.4f}')\n",
    "\n",
    "print('\\npart c')\n",
    "x = 0\n",
    "print(f'The probability that exactly {x} of the sampled individuals have used a discount broker is {binom_prob(n, pi, x):.4f}')\n"
   ]
  },
  {
   "source": [
    "## Ex15. Industry standards suggest that 10% of new vehicles require warranty service within the first year. Jones Nissan in Sumter, South Carolina, sold 12 Nissans yesterday.\n",
    "\n",
    "a. What is the probability that none of these vehicles requires warranty service?\n",
    "\n",
    "b. What is the probability that exactly one of these vehicles requires warranty service?\n",
    "\n",
    "c. Determine the probability that exactly two of these vehicles require warranty service.\n",
    "\n",
    "d. Compute the mean and standard deviation of this probability distribution."
   ],
   "cell_type": "markdown",
   "metadata": {}
  },
  {
   "cell_type": "code",
   "execution_count": 63,
   "metadata": {
    "tags": []
   },
   "outputs": [
    {
     "output_type": "stream",
     "name": "stdout",
     "text": "part a\nThe probability that exactly 0 of the sampled individuals have used a discount broker is 0.2824\n\npart b\nThe probability that exactly 1 of the sampled individuals have used a discount broker is 0.3766\n\npart c\nThe probability that exactly 2 of the sampled individuals have used a discount broker is 0.2301\n\npart d\nMean: 1.2\nStandard Deviation: 1.0392\n"
    }
   ],
   "source": [
    "# Binomial probability formula\n",
    "# P(x) = (nCx)*(pi**x)*(1 - pi)**(n - x)\n",
    "# C denotes a combination\n",
    "# n is the number of observations\n",
    "# x is the random variable\n",
    "# pi is the probability of a 'success' on each observation\n",
    "\n",
    "# mean of a binomial distribution = n * pi\n",
    "# variance of a binomial distribution = n * pi * (1 - pi)\n",
    "\n",
    "n = 12\n",
    "pi = .10\n",
    "x = 0\n",
    "\n",
    "print('part a')\n",
    "x = 0\n",
    "print(f'The probability that exactly {x} of the sampled individuals have used a discount broker is {binom_prob(n, pi, x):.4f}')\n",
    "\n",
    "print('\\npart b')\n",
    "x = 1\n",
    "print(f'The probability that exactly {x} of the sampled individuals have used a discount broker is {binom_prob(n, pi, x):.4f}')\n",
    "\n",
    "print('\\npart c')\n",
    "x = 2\n",
    "print(f'The probability that exactly {x} of the sampled individuals have used a discount broker is {binom_prob(n, pi, x):.4f}')\n",
    "\n",
    "print('\\npart d')\n",
    "mean = n * pi\n",
    "variance = mean * (1 - pi)\n",
    "std_dev = variance**(1/2)\n",
    "print(f'Mean: {mean:.1f}\\nStandard Deviation: {std_dev:.4f}')\n",
    "\n",
    "\n"
   ]
  },
  {
   "source": [
    "## Ex17. A recent survey by the American Accounting Association revealed 52% of accountants have the Certified Public Accounting (CPA) certificate. Suppose we select a sample of 15 accountants.\n",
    "\n",
    "a. What is the random variable? How is the random variable distributed? Why?\n",
    "\n",
    "b. What is the probability that five of the 15 accountants are CPAs?\n",
    "\n",
    "c. What is the probability that seven or eight of the 15 accountants are CPAs?\n",
    "\n",
    "d. What is the mean of the distribution of \"number of CPA's among 15 accountants?\n",
    "\n",
    "e. What is the variance of the distribution of \"number of CPA's among 15 accountants?"
   ],
   "cell_type": "markdown",
   "metadata": {}
  },
  {
   "cell_type": "code",
   "execution_count": 71,
   "metadata": {
    "tags": []
   },
   "outputs": [
    {
     "output_type": "stream",
     "name": "stdout",
     "text": "part a\nThe random variable is the number of accountants that are CPAs.\nIt is a binomial probability distribution because...\n 1. any possible outcome is either true or false. An accountant is either a CPA or not. True and false is not possible\n 2. the random variable (x) is a fixed number of CPAs in a known number of accountants (n).\n 3. we know the probability of CPA (pi) and it is the same for each of the accountants (n). \n 4. the trials are all independent. There is no pattern to the trials and the outcome of a particular trial does not effect the outcome of any other trial.\n\nCPAs      Probability\n0         0.0000    \n1         0.0003    \n2         0.0020    \n3         0.0096    \n4         0.0311    \n5         0.0741    \n6         0.1338    \n7         0.1864    \n8         0.2020    \n9         0.1702    \n10        0.1106    \n11        0.0545    \n12        0.0197    \n13        0.0049    \n14        0.0008    \n15        0.0001    \n\npart b\nThe probability that exactly 5 of the 15 accountants are CPAs is 0.0741\n\npart c\nThe probability that exactly 7 of the 15 accountants are CPAs is 0.1864\nThe probability that exactly 8 of the 15 accountants are CPAs is 0.2020\nThe probability that 7 or 8 of the 15 accountants are CPAs is 0.3884\n\npart d\nMean: 7.8\nVariance: 3.7440\nStandard Deviation: 1.9349\n"
    }
   ],
   "source": [
    "# Binomial probability formula\n",
    "# P(x) = (nCx)*(pi**x)*(1 - pi)**(n - x)\n",
    "# C denotes a combination\n",
    "# n is the number of observations\n",
    "# x is the random variable\n",
    "# pi is the probability of a 'success' on each observation\n",
    "\n",
    "# mean of a binomial distribution = n * pi\n",
    "# variance of a binomial distribution = n * pi * (1 - pi)\n",
    "\n",
    "n = 15\n",
    "pi = .52\n",
    "x = 0\n",
    "\n",
    "print('part a')\n",
    "print('The random variable is the number of accountants that are CPAs.')\n",
    "print('It is a binomial probability distribution because...')\n",
    "print(' 1. any possible outcome is either true or false. An accountant is either a CPA or not. True and false is not possible')\n",
    "print(' 2. the random variable (x) is a fixed number of CPAs in a known number of accountants (n).')\n",
    "print(' 3. we know the probability of an accountant being a CPA (pi) and it is the same for each of the accountants (n). ')\n",
    "print(' 4. the trials are all independent. There is no pattern to the trials and the outcome of a particular trial does not effect the outcome of any other trial.')\n",
    "\n",
    "prob_dist = []\n",
    "for value in range(n + 1):\n",
    "    prob_dist.append([value, binom_prob(n, pi, value)])\n",
    "print(f'\\n{\"CPAs\":<10}{\"Probability\":<10}')\n",
    "for element in prob_dist:\n",
    "    print(f'{element[0]:<10}{element[1]:<10.4f}')\n",
    "\n",
    "print('\\npart b')\n",
    "x = 5\n",
    "print(f'The probability that exactly {x} of the {n} accountants are CPAs is {binom_prob(n, pi, x):.4f}')\n",
    "\n",
    "print('\\npart c')\n",
    "x1 = 7\n",
    "x2 = 8\n",
    "prob_seven = binom_prob(n, pi, x1)\n",
    "prob_eight = binom_prob(n, pi, x2)\n",
    "prob_seven_or_eight = prob_seven + prob_eight\n",
    "print(f'The probability that exactly {x1} of the {n} accountants are CPAs is {prob_seven:.4f}')\n",
    "print(f'The probability that exactly {x2} of the {n} accountants are CPAs is {prob_eight:.4f}')\n",
    "print(f'The probability that {x1} or {x2} of the {n} accountants are CPAs is {prob_seven_or_eight:.4f}')\n",
    "\n",
    "print('\\npart d')\n",
    "mean = n * pi\n",
    "variance = mean * (1 - pi)\n",
    "std_dev = variance**(1/2)\n",
    "print(f'Mean: {mean:.1f}\\nVariance: {variance:.4f}\\nStandard Deviation: {std_dev:.4f}')"
   ]
  },
  {
   "source": [
    "## Ex23. The speed with which utility companies can resolve problems is very important. GTC, the Georgetown Telephone Company, reports it can resolve customer problems the same day they are reported in 70% of the cases. Suppose the 15 cases reported today are representative of all complaints.\n",
    "\n",
    "a. How many of the problems would you expect to be resolved today? What is the standard deviation?\n",
    "\n",
    "b. What is the probability 10 of the problems can be resolved today?\n",
    "\n",
    "c. What is the probability 10 or 11 of the problems can be resolved today?\n",
    "\n",
    "d. What is the probability more than 10 of the problems can be resolved today?"
   ],
   "cell_type": "markdown",
   "metadata": {}
  },
  {
   "cell_type": "code",
   "execution_count": 81,
   "metadata": {
    "tags": []
   },
   "outputs": [
    {
     "output_type": "stream",
     "name": "stdout",
     "text": "\nResolved  Probability\n0         0.0000    \n1         0.0000    \n2         0.0000    \n3         0.0001    \n4         0.0006    \n5         0.0030    \n6         0.0116    \n7         0.0348    \n8         0.0811    \n9         0.1472    \n10        0.2061    \n11        0.2186    \n12        0.1700    \n13        0.0916    \n14        0.0305    \n15        0.0047    \n\npart a\nI would expect the mean number of problems to be resolved. That would be 10.5 of the 15 problems.\nThe standard deviation is 1.7748.\n\npart b\nThe probability that exactly 10 of the 15 problems will be resolved in the same day is 0.2061\n\npart c\nThe probability that exactly 10 of the 15 problems will be resolved in the same day is 0.2061\nThe probability that exactly 11 of the 15 problems will be resolved in the same day is 0.2186\nThe probability that 10 or 11 of the 15 problems will be resolved in the same day is 0.4248\n\npart d\nThe probability that more than 10 of the 15 problems will be resolved today is 0.5155\n"
    }
   ],
   "source": [
    "# Binomial probability formula\n",
    "# P(x) = (nCx)*(pi**x)*(1 - pi)**(n - x)\n",
    "# C denotes a combination\n",
    "# n is the number of observations\n",
    "# x is the random variable\n",
    "# pi is the probability of a 'success' on each observation\n",
    "\n",
    "# mean of a binomial distribution = n * pi\n",
    "# variance of a binomial distribution = n * pi * (1 - pi)\n",
    "\n",
    "n = 15\n",
    "pi = .70\n",
    "x = 0\n",
    "mean = n * pi\n",
    "variance = n * pi * (1 - pi)\n",
    "std_dev = variance**(1/2)\n",
    "\n",
    "prob_dist = []\n",
    "for value in range(n + 1):\n",
    "    prob_dist.append([value, binom_prob(n, pi, value)])\n",
    "print(f'\\n{\"Resolved\":<10}{\"Probability\":<10}')\n",
    "for element in prob_dist:\n",
    "    print(f'{element[0]:<10}{element[1]:<10.4f}')\n",
    "\n",
    "print('\\npart a')\n",
    "print(f'I would expect the mean number of problems to be resolved. That would be {mean:.1f} of the {n} problems.')\n",
    "print(f'The standard deviation is {std_dev:.4f}.')\n",
    "\n",
    "print('\\npart b')\n",
    "x = 10\n",
    "print(f'The probability that exactly {x} of the {n} problems will be resolved in the same day is {binom_prob(n, pi, x):.4f}')\n",
    "\n",
    "print('\\npart c')\n",
    "x1 = 10\n",
    "x2 = 11\n",
    "prob_a = binom_prob(n, pi, x1)\n",
    "prob_b = binom_prob(n, pi, x2)\n",
    "prob_a_b = prob_a + prob_b\n",
    "print(f'The probability that exactly {x1} of the {n} problems will be resolved in the same day is {prob_a:.4f}')\n",
    "print(f'The probability that exactly {x2} of the {n} problems will be resolved in the same day is {prob_b:.4f}')\n",
    "print(f'The probability that {x1} or {x2} of the {n} problems will be resolved in the same day is {prob_a_b:.4f}')\n",
    "\n",
    "print('\\npart d')\n",
    "x = 10\n",
    "cumul_prob = 0\n",
    "for element in prob_dist:\n",
    "    if element[0] > x:\n",
    "        cumul_prob += element[1]\n",
    "print(f'The probability that more than {x} of the {n} problems will be resolved today is {cumul_prob:.4f}')"
   ]
  },
  {
   "source": [
    "## Ex27. The Riverton Branch of the National Bank of Wyoming has 10 real estate loans over $1,000,000. Of these 10 loans, three are \"underwater.\" A loan is underwater if the amount of the loan is greater than the value of the property. The chief loan officer decided to randomly select two of these loans to determine if they met all banking standards. What is the probability that neither of the selected loads is underwater?\n"
   ],
   "cell_type": "markdown",
   "metadata": {}
  },
  {
   "cell_type": "code",
   "execution_count": 82,
   "metadata": {
    "tags": []
   },
   "outputs": [
    {
     "output_type": "stream",
     "name": "stdout",
     "text": "The probability that neither of the selected loads is underwater is 0.4667\n"
    }
   ],
   "source": [
    "# Formula for Hypergeometric Distribution\n",
    "# (sCx) * ([(n-s)C(n-x)] / (NCn))\n",
    "# where:\n",
    "# N is the size of the population\n",
    "# S is the number of successes in the population\n",
    "# x is the number of successes in the sample. It may be 0, 1, 2, 3,...\n",
    "# n is the size of the sample or the number of trials.end=C is the symbol for a combination\n",
    "\n",
    "def hypergeo_dist(pop_size, success_in_pop, success_in_sample, sample_size):\n",
    "    N = pop_size\n",
    "    S = success_in_pop\n",
    "    x = success_in_sample\n",
    "    n = sample_size\n",
    "    num_a = my_combo(S,x)\n",
    "    num_b = my_combo((N - S),(n - x))\n",
    "    denom = my_combo(N,n)\n",
    "    probability = (num_a * num_b) / denom\n",
    "    return probability\n",
    "\n",
    "pop_size = 10 # \"has 10 real estate loans over $1,000,000\"\n",
    "underwater_in_pop = 3 # \"three are \"underwater.\"\"\n",
    "underwater_in_sample = 0 # \"neither of the selected loads is underwater\"\n",
    "sample_size = 2 # \"randomly select two of these loans\"\n",
    "probability = hypergeo_dist(pop_size, underwater_in_pop, underwater_in_sample, sample_size)\n",
    "print(f'The probability that neither of the selected loads is underwater is {probability:.4f}')"
   ]
  },
  {
   "source": [
    "## Ex29. Keith's Florist has 15 delivery trucks, used mainly to deliver flowers and flower arrangements in the Greenville, South Carolina, area. Of these 15 trucks, six have brake problems. Five trucks are randomly selected. What is the probability that two of those tested have defective brakes?"
   ],
   "cell_type": "markdown",
   "metadata": {}
  },
  {
   "cell_type": "code",
   "execution_count": 84,
   "metadata": {
    "tags": []
   },
   "outputs": [
    {
     "output_type": "stream",
     "name": "stdout",
     "text": "The probability that 2 of those tested have defective brakes is 0.4196\n"
    }
   ],
   "source": [
    "pop_size = 15 # \"has 15 delivery trucks\"\n",
    "underwater_in_pop = 6 # \"six have brake problems\"\n",
    "sample_size = 5 # \"Five trucks are randomly selected\"\n",
    "underwater_in_sample = 2 # \"What is the probability that two of those tested have defective brakes\"\n",
    "probability = hypergeo_dist(pop_size, underwater_in_pop, underwater_in_sample, sample_size)\n",
    "print(f'The probability that {underwater_in_sample} of those tested have defective brakes is {probability:.4f}')"
   ]
  },
  {
   "source": [
    "## Ex33. Ms. Bergen is a loan officer at Coast Bank and Trust. For her years of experience, she estimates that the probability is .025 that an applicant will not be able to repay his or her installment loan. Last month she made 40 loans.\n",
    "\n",
    "a. What is the probability that three loans will be defaulted?\n",
    "\n",
    "b. What is the probability that at least three loans will be defaulted?"
   ],
   "cell_type": "markdown",
   "metadata": {}
  },
  {
   "cell_type": "code",
   "execution_count": 91,
   "metadata": {
    "tags": []
   },
   "outputs": [
    {
     "output_type": "stream",
     "name": "stdout",
     "text": "\nDefaulted Probability\n0         0.3678794412\n1         0.3678794412\n2         0.1839397206\n3         0.0613132402\n4         0.0153283100\n5         0.0030656620\n6         0.0005109437\n7         0.0000729920\n8         0.0000091240\n9         0.0000010138\n10        0.0000001014\n11        0.0000000092\n12        0.0000000008\n13        0.0000000001\n14        0.0000000000\n15        0.0000000000\n16        0.0000000000\n17        0.0000000000\n18        0.0000000000\n19        0.0000000000\n20        0.0000000000\n21        0.0000000000\n22        0.0000000000\n23        0.0000000000\n24        0.0000000000\n25        0.0000000000\n26        0.0000000000\n27        0.0000000000\n28        0.0000000000\n29        0.0000000000\n30        0.0000000000\n31        0.0000000000\n32        0.0000000000\n33        0.0000000000\n34        0.0000000000\n35        0.0000000000\n36        0.0000000000\n37        0.0000000000\n38        0.0000000000\n39        0.0000000000\n40        0.0000000000\npart a\nThe probability that 3 loans will be defaulted is 0.0613\n\npart b\nThe probability that at least 3 loans will be defaulted is 0.0803\n"
    }
   ],
   "source": [
    "# Formula for Poisson distribution\n",
    "# P(x) = [(mean**x)*e**(-mean)] / x!\n",
    "# \n",
    "# where:\n",
    "# mean is the mean of a Poisson distribution = n*pi\n",
    "# e is 2.71828 (base of Napierian logarithmic system)\n",
    "# x is the number of occurances (successes)\n",
    "# P(x) is the probability of a specified value of x\n",
    "# n is the total number of trials\n",
    "# pi is the probability of success\n",
    "\n",
    "def poisson_dist(mean, num_occurances):\n",
    "    import math\n",
    "    mean = mean\n",
    "    E = math.e\n",
    "    num_a = mean**num_occurances\n",
    "    num_b = E**(-mean)\n",
    "    denom = math.factorial(num_occurances)\n",
    "    probability = (num_a * num_b) / denom\n",
    "    return probability\n",
    "\n",
    "pi = .025\n",
    "n = 40\n",
    "mean = n * pi\n",
    "\n",
    "prob_dist = []\n",
    "for value in range(n + 1):\n",
    "    prob_dist.append([value, poisson_dist(mean, value)])\n",
    "print(f'\\n{\"Defaulted\":<10}{\"Probability\":<10}')\n",
    "for element in prob_dist:\n",
    "    print(f'{element[0]:<10}{element[1]:<10.10f}')\n",
    "\n",
    "print('part a')\n",
    "x = 3\n",
    "probability = poisson_dist(mean, x)\n",
    "print(f'The probability that {x} loans will be defaulted is {probability:.4f}')\n",
    "\n",
    "print('\\npart b')\n",
    "x = 3\n",
    "cumul_prob = 0\n",
    "for item in range(n):\n",
    "    if item >= x:\n",
    "        cumul_prob += poisson_dist(mean, item)\n",
    "print(f'The probability that at least {x} loans will be defaulted is {cumul_prob:.4f}')"
   ]
  },
  {
   "source": [
    "## Ex35. It is estimated that 0.5% of the callers to the Customer Service department of Dell Inc. will receive a busy signal. What is the probability that of today's 1,200 callers at least five received a busy signal?"
   ],
   "cell_type": "markdown",
   "metadata": {}
  },
  {
   "cell_type": "code",
   "execution_count": 103,
   "metadata": {
    "tags": []
   },
   "outputs": [
    {
     "output_type": "stream",
     "name": "stdout",
     "text": "0 : 0.0024787521766663594\n1 : 0.014872513059998156\n2 : 0.04461753917999447\n3 : 0.08923507835998894\n4 : 0.1338526175399834\n0.2850565003166313\nThe probability that at least 5 callers received a busy signal is 0.7149\n"
    }
   ],
   "source": [
    "# Formula for Poisson distribution\n",
    "# P(x) = [(mean**x)*e**(-mean)] / x!\n",
    "# \n",
    "# where:\n",
    "# mean is the mean of a Poisson distribution = n*pi\n",
    "# e is 2.71828 (base of Napierian logarithmic system)\n",
    "# x is the number of occurances (successes)\n",
    "# P(x) is the probability of a specified value of x\n",
    "# n is the total number of trials\n",
    "# pi is the probability of success\n",
    "\n",
    "pi = .005\n",
    "n = 1200\n",
    "mean = n * pi\n",
    "x = 5\n",
    "\n",
    "# find the probability of no more than 4\n",
    "cumul_prob = 0\n",
    "for item in range(n):\n",
    "    if item < x:\n",
    "        probability = poisson_dist(mean, item)\n",
    "        cumul_prob += probability\n",
    "# subtract that from 1 to get the probability of at least 5\n",
    "cumul_prob = 1 - cumul_prob\n",
    "\n",
    "print(f'The probability that at least {x} callers received a busy signal is {cumul_prob:.4f}')"
   ]
  },
  {
   "source": [
    "## Ex43. In a recent study, 35% of people surveyed indicated chocolate was their favorite flavor of ice cream. Suppose we select a sample of 10 people and ask them to name thier favorite flavor of ice cream.\n",
    "\n",
    "a. How many of those in the sample would you expect to name chocolate?\n",
    "\n",
    "b. What is the probability exactly four of those in the sample name chocolate?\n",
    "\n",
    "c. What is the probability four or more name chocolate?"
   ],
   "cell_type": "markdown",
   "metadata": {}
  },
  {
   "cell_type": "code",
   "execution_count": 111,
   "metadata": {
    "tags": []
   },
   "outputs": [
    {
     "output_type": "stream",
     "name": "stdout",
     "text": "part a\nI would expect 3.5 people to name chocolate.\n\npart b\nThe probability exactly 4 of those in the sample name chocolate is 0.2377\n\npart c\nThe probability that at least 4 callers received a busy signal is 0.4862\n"
    }
   ],
   "source": [
    "pi = .35\n",
    "n = 10\n",
    "mean = n * pi\n",
    "x = 0\n",
    "\n",
    "print('part a')\n",
    "print(f'I would expect {mean:.1f} people to name chocolate.')\n",
    "\n",
    "print('\\npart b')\n",
    "x = 4\n",
    "print(f'The probability exactly {x} of those in the sample name chocolate is {binom_prob(n, pi, x):.4}')\n",
    "\n",
    "print('\\npart c')\n",
    "# find the probability of no more than 3\n",
    "cumul_prob = 0\n",
    "for item in range(n):\n",
    "    if item < x:\n",
    "        probability = binom_prob(n, pi, item)\n",
    "        cumul_prob += probability\n",
    "# subtract that from 1 to get the probability of at least 4\n",
    "cumul_prob = 1 - cumul_prob\n",
    "\n",
    "print(f'The probability that at least {x} callers received a busy signal is {cumul_prob:.4f}')"
   ]
  },
  {
   "source": [
    "## Ex47. A federal study reported that 7.5% of the US workforce has a drug problem. A drug enforcement official for the state of Indiana wishes to investigate this statement. In her sample of 20 employed workers:\n",
    "\n",
    "a. How many would you expect to have a drug problem? What is the standard deviation?\n",
    "\n",
    "b. What is the likelihood that none of the workers sampled has a drug problem?\n",
    "\n",
    "c. What is the likelihood at least one has a drug problem?"
   ],
   "cell_type": "markdown",
   "metadata": {}
  },
  {
   "cell_type": "code",
   "execution_count": 116,
   "metadata": {
    "tags": []
   },
   "outputs": [
    {
     "output_type": "stream",
     "name": "stdout",
     "text": "part a\nI would expect 1.5 people to have a drug problem.\nThe standard deviation is 1.178.\n\npart b\nThe probability none of the workers sampled has a drug problem is 0.2103\n\npart c\nThe probability at least one of the workers sampled has a drug problem is 0.7897\n"
    }
   ],
   "source": [
    "pi = .075\n",
    "n = 20\n",
    "mean = n * pi\n",
    "variance = variance = n * pi * (1 - pi)\n",
    "std_dev = variance**(1/2)\n",
    "x = 0\n",
    "\n",
    "print('part a')\n",
    "print(f'I would expect {mean:.1f} people to have a drug problem.')\n",
    "print(f'The standard deviation is {std_dev:.4}.')\n",
    "\n",
    "print('\\npart b')\n",
    "print(f'The probability none of the workers sampled has a drug problem is {binom_prob(n, pi, x):.4}')\n",
    "\n",
    "print('\\npart c')\n",
    "print(f'The probability at least one of the workers sampled has a drug problem is {1 - binom_prob(n, pi, x):.4}')"
   ]
  },
  {
   "source": [
    "## Ex55. The law firm of Hagel and Hagel is located in downtown Cincinnati. There are 10 partners in the firm; seven live in Ohio and three in northern Kentucky. Ms Wendy Hagel, the managing partner, wants to appoint a committee of three partners to look into moving the firm to northern Kentucky. If the committee is selected at random from the 10 partners, what is the probability that:\n",
    "\n",
    "a. One member of the committee lives in northern Kentucky and the others live in Ohio?\n",
    "\n",
    "b. At least one member of the committee lives in northern Kentucky?"
   ],
   "cell_type": "markdown",
   "metadata": {}
  },
  {
   "cell_type": "code",
   "execution_count": 118,
   "metadata": {
    "tags": []
   },
   "outputs": [
    {
     "output_type": "stream",
     "name": "stdout",
     "text": "part a\nThe probability that one member of the committee lives in northern Kentucky is 0.5250\n\npart b\nThe probability that at least one member of the committee lives in northern Kentucky is 0.7083\n"
    }
   ],
   "source": [
    "pop_size = 10 # \"There are 10 partners in the firm\"\n",
    "kentucky_in_pop = 3 # \"three in northern Kentucky\"\n",
    "Kentucky_in_sample = 1 # \"One member of the committee lives in northern Kentucky\"\n",
    "sample_size = 3 # \"a committee of three partners \"\n",
    "\n",
    "print('part a')\n",
    "Kentucky_in_sample = 1 # \"One member of the committee lives in northern Kentucky\"\n",
    "probability = hypergeo_dist(pop_size, kentucky_in_pop, Kentucky_in_sample, sample_size)\n",
    "print(f'The probability that one member of the committee lives in northern Kentucky is {probability:.4f}')\n",
    "\n",
    "print('\\npart b')\n",
    "Kentucky_in_sample = 0\n",
    "probability = hypergeo_dist(pop_size, kentucky_in_pop, Kentucky_in_sample, sample_size)\n",
    "print(f'The probability that at least one member of the committee lives in northern Kentucky is {1 - probability:.4f}')"
   ]
  },
  {
   "source": [
    "## Ex63. Recent crime reports indicate that 3.1 motor vehicle thefts occur each minute in the United States. Assume that the distribution on thefts per minute can be approximated by the Poisson probability distribution.\n",
    "\n",
    "a. Calculate the probability exactly four thefts occur in a minute?\n",
    "\n",
    "b. What is the probability there are no thefts in a minute?\n",
    "\n",
    "c. What is the probability there is at least one theft in a minute?"
   ],
   "cell_type": "markdown",
   "metadata": {}
  },
  {
   "cell_type": "code",
   "execution_count": 121,
   "metadata": {
    "tags": []
   },
   "outputs": [
    {
     "output_type": "stream",
     "name": "stdout",
     "text": "part a\nThe probability that exactly 4 thefts occur in a minute is 0.1733\n\npart b\nThe probability that 0 thefts occur in a minute is 0.0450\n\npart c\nThe probability that there is at least one theft in a minute is 0.9550\n"
    }
   ],
   "source": [
    "pi = 3.1 / 60\n",
    "n = 60\n",
    "mean = n * pi\n",
    "x = 0\n",
    "\n",
    "print('part a')\n",
    "x = 4\n",
    "probability = poisson_dist(mean, x)\n",
    "print(f'The probability that exactly {x} thefts occur in a minute is {probability:.4f}')\n",
    "\n",
    "print('\\npart b')\n",
    "x = 0\n",
    "probability = poisson_dist(mean, x)\n",
    "print(f'The probability that {x} thefts occur in a minute is {probability:.4f}')\n",
    "\n",
    "print('\\npart c')\n",
    "probability = 1 - poisson_dist(mean, x)\n",
    "print(f'The probability that there is at least one theft in a minute is {probability:.4f}')"
   ]
  },
  {
   "source": [
    "## Ex67. According to the U.S. government, it costs more to make a penny, $0.0241, than a penny's value, $0.01. The U.S government has considered eliminating pennies from its currency. Canada and Australia decided to eliminate pennies from their currencies. As part of the decision, a survey of adult Americans found that two-thirds said that pennies should not be eliminated. If we randomly selected 12 adults:\n",
    "\n",
    "a. Of the 12 adults, how many would we expect to support continued use of the penny?\n",
    "\n",
    "b. What is the likelihood that eight adults would support continued use of the penny?\n",
    "\n",
    "c. What is the likelihood that the majority of the 12 people, that is seven or more adults, would support the continued use of the penny? "
   ],
   "cell_type": "markdown",
   "metadata": {}
  },
  {
   "cell_type": "code",
   "execution_count": 125,
   "metadata": {
    "tags": []
   },
   "outputs": [
    {
     "output_type": "stream",
     "name": "stdout",
     "text": "part a\nI would expect 8.0 adults to support continued use of the penny.\n\npart b\nThe probability that 8 adults would support continued use of the penny is 0.1396.\n\npart c\nThe probability that the majority of the 12 people would support the continued use of the penny is 0.8779.\n"
    }
   ],
   "source": [
    "pi = 0.6667\n",
    "n = 12\n",
    "mean = n * pi\n",
    "x = 0\n",
    "\n",
    "print('part a')\n",
    "print(f'I would expect {mean:.1f} adults to support continued use of the penny.')\n",
    "\n",
    "print('\\npart b')\n",
    "x = 8\n",
    "probability = poisson_dist(mean, x)\n",
    "print(f'The probability that {x} adults would support continued use of the penny is {probability:.4f}.')\n",
    "\n",
    "print('\\npart c')\n",
    "x = 6\n",
    "probability = 1 - poisson_dist(mean, x)\n",
    "print(f'The probability that the majority of the 12 people would support the continued use of the penny is {probability:.4f}.')"
   ]
  },
  {
   "cell_type": "code",
   "execution_count": null,
   "metadata": {},
   "outputs": [],
   "source": []
  }
 ]
}